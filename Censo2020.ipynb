{
  "nbformat": 4,
  "nbformat_minor": 0,
  "metadata": {
    "colab": {
      "provenance": [],
      "collapsed_sections": [],
      "authorship_tag": "ABX9TyP4ZVtEn6nWTR8Jw72TK3wC"
    },
    "kernelspec": {
      "name": "python3",
      "display_name": "Python 3"
    },
    "language_info": {
      "name": "python"
    }
  },
  "cells": [
    {
      "cell_type": "markdown",
      "source": [
        "### **Importamos las librerías necesarias.**"
      ],
      "metadata": {
        "id": "D6_jjnTaYSDe"
      }
    },
    {
      "cell_type": "code",
      "execution_count": 4,
      "metadata": {
        "id": "bcXxBf5OUfLV"
      },
      "outputs": [],
      "source": [
        "import pandas as pd\n",
        "import seaborn as sns\n",
        "import numpy as np\n",
        "import matplotlib.pyplot as plt\n",
        "import scipy.stats as stats"
      ]
    },
    {
      "cell_type": "code",
      "source": [
        "diccionario = pd.read_csv('diccionario.csv')\n",
        "tam_loc = pd.read_csv('tam_loc.csv')\n",
        "censo = pd.read_csv('censo_datos.csv')"
      ],
      "metadata": {
        "id": "ccQvrcgxYbCs"
      },
      "execution_count": 5,
      "outputs": []
    },
    {
      "cell_type": "code",
      "source": [
        "censo.head()"
      ],
      "metadata": {
        "colab": {
          "base_uri": "https://localhost:8080/",
          "height": 472
        },
        "id": "wBF0MbogbIsD",
        "outputId": "832c9528-054f-4c87-ae46-982053e37c10"
      },
      "execution_count": 6,
      "outputs": [
        {
          "output_type": "execute_result",
          "data": {
            "text/plain": [
              "   ENTIDAD NOM_ENT  MUN                     NOM_MUN   LOC  \\\n",
              "0       21  Puebla    0  Total de la entidad Puebla     0   \n",
              "1       21  Puebla    0  Total de la entidad Puebla  9998   \n",
              "2       21  Puebla    0  Total de la entidad Puebla  9999   \n",
              "3       21  Puebla    1                     Acajete     0   \n",
              "4       21  Puebla    1                     Acajete     1   \n",
              "\n",
              "                        NOM_LOC          LONGITUD          LATITUD  ALTITUD  \\\n",
              "0           Total de la Entidad               NaN              NaN      NaN   \n",
              "1   Localidades de una vivienda               NaN              NaN      NaN   \n",
              "2  Localidades de dos viviendas               NaN              NaN      NaN   \n",
              "3           Total del Municipio               NaN              NaN      NaN   \n",
              "4                       Acajete   97°57'09.774\" W  19°06'17.785\" N   2439.0   \n",
              "\n",
              "    POBTOT  ...  VPH_CEL VPH_INTER VPH_STVP VPH_SPMVPI VPH_CVJ VPH_SINRTV  \\\n",
              "0  6583278  ...  1444126    691363   539920     213909  129993     102541   \n",
              "1     3437  ...      595       144      181         22      15        236   \n",
              "2     2667  ...      492        97      137         13       7        191   \n",
              "3    72894  ...    12885      3430     3017        384     277        851   \n",
              "4    13922  ...     2603      1007     1158        121      71        133   \n",
              "\n",
              "  VPH_SINLTC VPH_SINCINT VPH_SINTIC TAMLOC  \n",
              "0     207818      939937      49800      *  \n",
              "1        223         659        140      *  \n",
              "2        218         598        126      *  \n",
              "3       1899       11183        387      *  \n",
              "4        330        1860         57      7  \n",
              "\n",
              "[5 rows x 286 columns]"
            ],
            "text/html": [
              "\n",
              "  <div id=\"df-04772fe2-b43b-4246-a3ba-ec61ec1aabb0\">\n",
              "    <div class=\"colab-df-container\">\n",
              "      <div>\n",
              "<style scoped>\n",
              "    .dataframe tbody tr th:only-of-type {\n",
              "        vertical-align: middle;\n",
              "    }\n",
              "\n",
              "    .dataframe tbody tr th {\n",
              "        vertical-align: top;\n",
              "    }\n",
              "\n",
              "    .dataframe thead th {\n",
              "        text-align: right;\n",
              "    }\n",
              "</style>\n",
              "<table border=\"1\" class=\"dataframe\">\n",
              "  <thead>\n",
              "    <tr style=\"text-align: right;\">\n",
              "      <th></th>\n",
              "      <th>ENTIDAD</th>\n",
              "      <th>NOM_ENT</th>\n",
              "      <th>MUN</th>\n",
              "      <th>NOM_MUN</th>\n",
              "      <th>LOC</th>\n",
              "      <th>NOM_LOC</th>\n",
              "      <th>LONGITUD</th>\n",
              "      <th>LATITUD</th>\n",
              "      <th>ALTITUD</th>\n",
              "      <th>POBTOT</th>\n",
              "      <th>...</th>\n",
              "      <th>VPH_CEL</th>\n",
              "      <th>VPH_INTER</th>\n",
              "      <th>VPH_STVP</th>\n",
              "      <th>VPH_SPMVPI</th>\n",
              "      <th>VPH_CVJ</th>\n",
              "      <th>VPH_SINRTV</th>\n",
              "      <th>VPH_SINLTC</th>\n",
              "      <th>VPH_SINCINT</th>\n",
              "      <th>VPH_SINTIC</th>\n",
              "      <th>TAMLOC</th>\n",
              "    </tr>\n",
              "  </thead>\n",
              "  <tbody>\n",
              "    <tr>\n",
              "      <th>0</th>\n",
              "      <td>21</td>\n",
              "      <td>Puebla</td>\n",
              "      <td>0</td>\n",
              "      <td>Total de la entidad Puebla</td>\n",
              "      <td>0</td>\n",
              "      <td>Total de la Entidad</td>\n",
              "      <td>NaN</td>\n",
              "      <td>NaN</td>\n",
              "      <td>NaN</td>\n",
              "      <td>6583278</td>\n",
              "      <td>...</td>\n",
              "      <td>1444126</td>\n",
              "      <td>691363</td>\n",
              "      <td>539920</td>\n",
              "      <td>213909</td>\n",
              "      <td>129993</td>\n",
              "      <td>102541</td>\n",
              "      <td>207818</td>\n",
              "      <td>939937</td>\n",
              "      <td>49800</td>\n",
              "      <td>*</td>\n",
              "    </tr>\n",
              "    <tr>\n",
              "      <th>1</th>\n",
              "      <td>21</td>\n",
              "      <td>Puebla</td>\n",
              "      <td>0</td>\n",
              "      <td>Total de la entidad Puebla</td>\n",
              "      <td>9998</td>\n",
              "      <td>Localidades de una vivienda</td>\n",
              "      <td>NaN</td>\n",
              "      <td>NaN</td>\n",
              "      <td>NaN</td>\n",
              "      <td>3437</td>\n",
              "      <td>...</td>\n",
              "      <td>595</td>\n",
              "      <td>144</td>\n",
              "      <td>181</td>\n",
              "      <td>22</td>\n",
              "      <td>15</td>\n",
              "      <td>236</td>\n",
              "      <td>223</td>\n",
              "      <td>659</td>\n",
              "      <td>140</td>\n",
              "      <td>*</td>\n",
              "    </tr>\n",
              "    <tr>\n",
              "      <th>2</th>\n",
              "      <td>21</td>\n",
              "      <td>Puebla</td>\n",
              "      <td>0</td>\n",
              "      <td>Total de la entidad Puebla</td>\n",
              "      <td>9999</td>\n",
              "      <td>Localidades de dos viviendas</td>\n",
              "      <td>NaN</td>\n",
              "      <td>NaN</td>\n",
              "      <td>NaN</td>\n",
              "      <td>2667</td>\n",
              "      <td>...</td>\n",
              "      <td>492</td>\n",
              "      <td>97</td>\n",
              "      <td>137</td>\n",
              "      <td>13</td>\n",
              "      <td>7</td>\n",
              "      <td>191</td>\n",
              "      <td>218</td>\n",
              "      <td>598</td>\n",
              "      <td>126</td>\n",
              "      <td>*</td>\n",
              "    </tr>\n",
              "    <tr>\n",
              "      <th>3</th>\n",
              "      <td>21</td>\n",
              "      <td>Puebla</td>\n",
              "      <td>1</td>\n",
              "      <td>Acajete</td>\n",
              "      <td>0</td>\n",
              "      <td>Total del Municipio</td>\n",
              "      <td>NaN</td>\n",
              "      <td>NaN</td>\n",
              "      <td>NaN</td>\n",
              "      <td>72894</td>\n",
              "      <td>...</td>\n",
              "      <td>12885</td>\n",
              "      <td>3430</td>\n",
              "      <td>3017</td>\n",
              "      <td>384</td>\n",
              "      <td>277</td>\n",
              "      <td>851</td>\n",
              "      <td>1899</td>\n",
              "      <td>11183</td>\n",
              "      <td>387</td>\n",
              "      <td>*</td>\n",
              "    </tr>\n",
              "    <tr>\n",
              "      <th>4</th>\n",
              "      <td>21</td>\n",
              "      <td>Puebla</td>\n",
              "      <td>1</td>\n",
              "      <td>Acajete</td>\n",
              "      <td>1</td>\n",
              "      <td>Acajete</td>\n",
              "      <td>97°57'09.774\" W</td>\n",
              "      <td>19°06'17.785\" N</td>\n",
              "      <td>2439.0</td>\n",
              "      <td>13922</td>\n",
              "      <td>...</td>\n",
              "      <td>2603</td>\n",
              "      <td>1007</td>\n",
              "      <td>1158</td>\n",
              "      <td>121</td>\n",
              "      <td>71</td>\n",
              "      <td>133</td>\n",
              "      <td>330</td>\n",
              "      <td>1860</td>\n",
              "      <td>57</td>\n",
              "      <td>7</td>\n",
              "    </tr>\n",
              "  </tbody>\n",
              "</table>\n",
              "<p>5 rows × 286 columns</p>\n",
              "</div>\n",
              "      <button class=\"colab-df-convert\" onclick=\"convertToInteractive('df-04772fe2-b43b-4246-a3ba-ec61ec1aabb0')\"\n",
              "              title=\"Convert this dataframe to an interactive table.\"\n",
              "              style=\"display:none;\">\n",
              "        \n",
              "  <svg xmlns=\"http://www.w3.org/2000/svg\" height=\"24px\"viewBox=\"0 0 24 24\"\n",
              "       width=\"24px\">\n",
              "    <path d=\"M0 0h24v24H0V0z\" fill=\"none\"/>\n",
              "    <path d=\"M18.56 5.44l.94 2.06.94-2.06 2.06-.94-2.06-.94-.94-2.06-.94 2.06-2.06.94zm-11 1L8.5 8.5l.94-2.06 2.06-.94-2.06-.94L8.5 2.5l-.94 2.06-2.06.94zm10 10l.94 2.06.94-2.06 2.06-.94-2.06-.94-.94-2.06-.94 2.06-2.06.94z\"/><path d=\"M17.41 7.96l-1.37-1.37c-.4-.4-.92-.59-1.43-.59-.52 0-1.04.2-1.43.59L10.3 9.45l-7.72 7.72c-.78.78-.78 2.05 0 2.83L4 21.41c.39.39.9.59 1.41.59.51 0 1.02-.2 1.41-.59l7.78-7.78 2.81-2.81c.8-.78.8-2.07 0-2.86zM5.41 20L4 18.59l7.72-7.72 1.47 1.35L5.41 20z\"/>\n",
              "  </svg>\n",
              "      </button>\n",
              "      \n",
              "  <style>\n",
              "    .colab-df-container {\n",
              "      display:flex;\n",
              "      flex-wrap:wrap;\n",
              "      gap: 12px;\n",
              "    }\n",
              "\n",
              "    .colab-df-convert {\n",
              "      background-color: #E8F0FE;\n",
              "      border: none;\n",
              "      border-radius: 50%;\n",
              "      cursor: pointer;\n",
              "      display: none;\n",
              "      fill: #1967D2;\n",
              "      height: 32px;\n",
              "      padding: 0 0 0 0;\n",
              "      width: 32px;\n",
              "    }\n",
              "\n",
              "    .colab-df-convert:hover {\n",
              "      background-color: #E2EBFA;\n",
              "      box-shadow: 0px 1px 2px rgba(60, 64, 67, 0.3), 0px 1px 3px 1px rgba(60, 64, 67, 0.15);\n",
              "      fill: #174EA6;\n",
              "    }\n",
              "\n",
              "    [theme=dark] .colab-df-convert {\n",
              "      background-color: #3B4455;\n",
              "      fill: #D2E3FC;\n",
              "    }\n",
              "\n",
              "    [theme=dark] .colab-df-convert:hover {\n",
              "      background-color: #434B5C;\n",
              "      box-shadow: 0px 1px 3px 1px rgba(0, 0, 0, 0.15);\n",
              "      filter: drop-shadow(0px 1px 2px rgba(0, 0, 0, 0.3));\n",
              "      fill: #FFFFFF;\n",
              "    }\n",
              "  </style>\n",
              "\n",
              "      <script>\n",
              "        const buttonEl =\n",
              "          document.querySelector('#df-04772fe2-b43b-4246-a3ba-ec61ec1aabb0 button.colab-df-convert');\n",
              "        buttonEl.style.display =\n",
              "          google.colab.kernel.accessAllowed ? 'block' : 'none';\n",
              "\n",
              "        async function convertToInteractive(key) {\n",
              "          const element = document.querySelector('#df-04772fe2-b43b-4246-a3ba-ec61ec1aabb0');\n",
              "          const dataTable =\n",
              "            await google.colab.kernel.invokeFunction('convertToInteractive',\n",
              "                                                     [key], {});\n",
              "          if (!dataTable) return;\n",
              "\n",
              "          const docLinkHtml = 'Like what you see? Visit the ' +\n",
              "            '<a target=\"_blank\" href=https://colab.research.google.com/notebooks/data_table.ipynb>data table notebook</a>'\n",
              "            + ' to learn more about interactive tables.';\n",
              "          element.innerHTML = '';\n",
              "          dataTable['output_type'] = 'display_data';\n",
              "          await google.colab.output.renderOutput(dataTable, element);\n",
              "          const docLink = document.createElement('div');\n",
              "          docLink.innerHTML = docLinkHtml;\n",
              "          element.appendChild(docLink);\n",
              "        }\n",
              "      </script>\n",
              "    </div>\n",
              "  </div>\n",
              "  "
            ]
          },
          "metadata": {},
          "execution_count": 6
        }
      ]
    },
    {
      "cell_type": "code",
      "source": [
        "diccionario.head(10)"
      ],
      "metadata": {
        "colab": {
          "base_uri": "https://localhost:8080/",
          "height": 663
        },
        "id": "5hWLVodfgIfx",
        "outputId": "1632f5d4-26d1-4d84-8ca6-f56656a5d1a8"
      },
      "execution_count": 7,
      "outputs": [
        {
          "output_type": "execute_result",
          "data": {
            "text/plain": [
              "                           Unnamed: 0  \\\n",
              "0  CENSO DE POBLACIÓN Y VIVIENDA 2020   \n",
              "1             Relación de indicadores   \n",
              "2                                 NaN   \n",
              "3                                Núm.   \n",
              "4                                   1   \n",
              "5                                   2   \n",
              "6                                   3   \n",
              "7                                   4   \n",
              "8                                   5   \n",
              "9                                   6   \n",
              "\n",
              "                                     Unnamed: 1  \\\n",
              "0                                           NaN   \n",
              "1                                           NaN   \n",
              "2                                           NaN   \n",
              "3                                     Indicador   \n",
              "4                   Clave de entidad federativa   \n",
              "5                            Entidad federativa   \n",
              "6  Clave de municipio o demarcación territorial   \n",
              "7           Municipio o demarcación territorial   \n",
              "8                            Clave de localidad   \n",
              "9                                     Localidad   \n",
              "\n",
              "                                          Unnamed: 2  Unnamed: 3  \\\n",
              "0                                                NaN         NaN   \n",
              "1                                                NaN         NaN   \n",
              "2                                     Cuarta edición         NaN   \n",
              "3                                        Descripción   Mnemónico   \n",
              "4  Código que identifica a la entidad federativa....     ENTIDAD   \n",
              "5           Nombre oficial de la entidad federativa.    NOM_ENT    \n",
              "6  Código que identifica al municipio o demarcaci...         MUN   \n",
              "7  Nombre oficial del municipio o demarcación ter...  NOM_MUN      \n",
              "8  Código que identifica a la localidad al interi...         LOC   \n",
              "9  Nombre con el que se reconoce a la localidad d...    NOM_LOC    \n",
              "\n",
              "     Unnamed: 4 Unnamed: 5  Unnamed: 6  Unnamed: 7  Unnamed: 8 Unnamed: 9  \n",
              "0           NaN        NaN         NaN         NaN         NaN        NaN  \n",
              "1           NaN        NaN         NaN         NaN         NaN        NaN  \n",
              "2           NaN        NaN         NaN         NaN         NaN        NaN  \n",
              "3        Rangos   Longitud         NaN         NaN         NaN        NaN  \n",
              "4         00…32          2         NaN         NaN         NaN        NaN  \n",
              "5  Alfanumérico         50         NaN         NaN         NaN        NaN  \n",
              "6       000…570          3         NaN         NaN         NaN             \n",
              "7  Alfanumérico         50         NaN         NaN         NaN        NaN  \n",
              "8     0000…9999          4         NaN         NaN         NaN        NaN  \n",
              "9  Alfanumérico         70         NaN         NaN         NaN        NaN  "
            ],
            "text/html": [
              "\n",
              "  <div id=\"df-d04d7997-760c-4ea7-a957-c5ae6dd9f620\">\n",
              "    <div class=\"colab-df-container\">\n",
              "      <div>\n",
              "<style scoped>\n",
              "    .dataframe tbody tr th:only-of-type {\n",
              "        vertical-align: middle;\n",
              "    }\n",
              "\n",
              "    .dataframe tbody tr th {\n",
              "        vertical-align: top;\n",
              "    }\n",
              "\n",
              "    .dataframe thead th {\n",
              "        text-align: right;\n",
              "    }\n",
              "</style>\n",
              "<table border=\"1\" class=\"dataframe\">\n",
              "  <thead>\n",
              "    <tr style=\"text-align: right;\">\n",
              "      <th></th>\n",
              "      <th>Unnamed: 0</th>\n",
              "      <th>Unnamed: 1</th>\n",
              "      <th>Unnamed: 2</th>\n",
              "      <th>Unnamed: 3</th>\n",
              "      <th>Unnamed: 4</th>\n",
              "      <th>Unnamed: 5</th>\n",
              "      <th>Unnamed: 6</th>\n",
              "      <th>Unnamed: 7</th>\n",
              "      <th>Unnamed: 8</th>\n",
              "      <th>Unnamed: 9</th>\n",
              "    </tr>\n",
              "  </thead>\n",
              "  <tbody>\n",
              "    <tr>\n",
              "      <th>0</th>\n",
              "      <td>CENSO DE POBLACIÓN Y VIVIENDA 2020</td>\n",
              "      <td>NaN</td>\n",
              "      <td>NaN</td>\n",
              "      <td>NaN</td>\n",
              "      <td>NaN</td>\n",
              "      <td>NaN</td>\n",
              "      <td>NaN</td>\n",
              "      <td>NaN</td>\n",
              "      <td>NaN</td>\n",
              "      <td>NaN</td>\n",
              "    </tr>\n",
              "    <tr>\n",
              "      <th>1</th>\n",
              "      <td>Relación de indicadores</td>\n",
              "      <td>NaN</td>\n",
              "      <td>NaN</td>\n",
              "      <td>NaN</td>\n",
              "      <td>NaN</td>\n",
              "      <td>NaN</td>\n",
              "      <td>NaN</td>\n",
              "      <td>NaN</td>\n",
              "      <td>NaN</td>\n",
              "      <td>NaN</td>\n",
              "    </tr>\n",
              "    <tr>\n",
              "      <th>2</th>\n",
              "      <td>NaN</td>\n",
              "      <td>NaN</td>\n",
              "      <td>Cuarta edición</td>\n",
              "      <td>NaN</td>\n",
              "      <td>NaN</td>\n",
              "      <td>NaN</td>\n",
              "      <td>NaN</td>\n",
              "      <td>NaN</td>\n",
              "      <td>NaN</td>\n",
              "      <td>NaN</td>\n",
              "    </tr>\n",
              "    <tr>\n",
              "      <th>3</th>\n",
              "      <td>Núm.</td>\n",
              "      <td>Indicador</td>\n",
              "      <td>Descripción</td>\n",
              "      <td>Mnemónico</td>\n",
              "      <td>Rangos</td>\n",
              "      <td>Longitud</td>\n",
              "      <td>NaN</td>\n",
              "      <td>NaN</td>\n",
              "      <td>NaN</td>\n",
              "      <td>NaN</td>\n",
              "    </tr>\n",
              "    <tr>\n",
              "      <th>4</th>\n",
              "      <td>1</td>\n",
              "      <td>Clave de entidad federativa</td>\n",
              "      <td>Código que identifica a la entidad federativa....</td>\n",
              "      <td>ENTIDAD</td>\n",
              "      <td>00…32</td>\n",
              "      <td>2</td>\n",
              "      <td>NaN</td>\n",
              "      <td>NaN</td>\n",
              "      <td>NaN</td>\n",
              "      <td>NaN</td>\n",
              "    </tr>\n",
              "    <tr>\n",
              "      <th>5</th>\n",
              "      <td>2</td>\n",
              "      <td>Entidad federativa</td>\n",
              "      <td>Nombre oficial de la entidad federativa.</td>\n",
              "      <td>NOM_ENT</td>\n",
              "      <td>Alfanumérico</td>\n",
              "      <td>50</td>\n",
              "      <td>NaN</td>\n",
              "      <td>NaN</td>\n",
              "      <td>NaN</td>\n",
              "      <td>NaN</td>\n",
              "    </tr>\n",
              "    <tr>\n",
              "      <th>6</th>\n",
              "      <td>3</td>\n",
              "      <td>Clave de municipio o demarcación territorial</td>\n",
              "      <td>Código que identifica al municipio o demarcaci...</td>\n",
              "      <td>MUN</td>\n",
              "      <td>000…570</td>\n",
              "      <td>3</td>\n",
              "      <td>NaN</td>\n",
              "      <td>NaN</td>\n",
              "      <td>NaN</td>\n",
              "      <td></td>\n",
              "    </tr>\n",
              "    <tr>\n",
              "      <th>7</th>\n",
              "      <td>4</td>\n",
              "      <td>Municipio o demarcación territorial</td>\n",
              "      <td>Nombre oficial del municipio o demarcación ter...</td>\n",
              "      <td>NOM_MUN</td>\n",
              "      <td>Alfanumérico</td>\n",
              "      <td>50</td>\n",
              "      <td>NaN</td>\n",
              "      <td>NaN</td>\n",
              "      <td>NaN</td>\n",
              "      <td>NaN</td>\n",
              "    </tr>\n",
              "    <tr>\n",
              "      <th>8</th>\n",
              "      <td>5</td>\n",
              "      <td>Clave de localidad</td>\n",
              "      <td>Código que identifica a la localidad al interi...</td>\n",
              "      <td>LOC</td>\n",
              "      <td>0000…9999</td>\n",
              "      <td>4</td>\n",
              "      <td>NaN</td>\n",
              "      <td>NaN</td>\n",
              "      <td>NaN</td>\n",
              "      <td>NaN</td>\n",
              "    </tr>\n",
              "    <tr>\n",
              "      <th>9</th>\n",
              "      <td>6</td>\n",
              "      <td>Localidad</td>\n",
              "      <td>Nombre con el que se reconoce a la localidad d...</td>\n",
              "      <td>NOM_LOC</td>\n",
              "      <td>Alfanumérico</td>\n",
              "      <td>70</td>\n",
              "      <td>NaN</td>\n",
              "      <td>NaN</td>\n",
              "      <td>NaN</td>\n",
              "      <td>NaN</td>\n",
              "    </tr>\n",
              "  </tbody>\n",
              "</table>\n",
              "</div>\n",
              "      <button class=\"colab-df-convert\" onclick=\"convertToInteractive('df-d04d7997-760c-4ea7-a957-c5ae6dd9f620')\"\n",
              "              title=\"Convert this dataframe to an interactive table.\"\n",
              "              style=\"display:none;\">\n",
              "        \n",
              "  <svg xmlns=\"http://www.w3.org/2000/svg\" height=\"24px\"viewBox=\"0 0 24 24\"\n",
              "       width=\"24px\">\n",
              "    <path d=\"M0 0h24v24H0V0z\" fill=\"none\"/>\n",
              "    <path d=\"M18.56 5.44l.94 2.06.94-2.06 2.06-.94-2.06-.94-.94-2.06-.94 2.06-2.06.94zm-11 1L8.5 8.5l.94-2.06 2.06-.94-2.06-.94L8.5 2.5l-.94 2.06-2.06.94zm10 10l.94 2.06.94-2.06 2.06-.94-2.06-.94-.94-2.06-.94 2.06-2.06.94z\"/><path d=\"M17.41 7.96l-1.37-1.37c-.4-.4-.92-.59-1.43-.59-.52 0-1.04.2-1.43.59L10.3 9.45l-7.72 7.72c-.78.78-.78 2.05 0 2.83L4 21.41c.39.39.9.59 1.41.59.51 0 1.02-.2 1.41-.59l7.78-7.78 2.81-2.81c.8-.78.8-2.07 0-2.86zM5.41 20L4 18.59l7.72-7.72 1.47 1.35L5.41 20z\"/>\n",
              "  </svg>\n",
              "      </button>\n",
              "      \n",
              "  <style>\n",
              "    .colab-df-container {\n",
              "      display:flex;\n",
              "      flex-wrap:wrap;\n",
              "      gap: 12px;\n",
              "    }\n",
              "\n",
              "    .colab-df-convert {\n",
              "      background-color: #E8F0FE;\n",
              "      border: none;\n",
              "      border-radius: 50%;\n",
              "      cursor: pointer;\n",
              "      display: none;\n",
              "      fill: #1967D2;\n",
              "      height: 32px;\n",
              "      padding: 0 0 0 0;\n",
              "      width: 32px;\n",
              "    }\n",
              "\n",
              "    .colab-df-convert:hover {\n",
              "      background-color: #E2EBFA;\n",
              "      box-shadow: 0px 1px 2px rgba(60, 64, 67, 0.3), 0px 1px 3px 1px rgba(60, 64, 67, 0.15);\n",
              "      fill: #174EA6;\n",
              "    }\n",
              "\n",
              "    [theme=dark] .colab-df-convert {\n",
              "      background-color: #3B4455;\n",
              "      fill: #D2E3FC;\n",
              "    }\n",
              "\n",
              "    [theme=dark] .colab-df-convert:hover {\n",
              "      background-color: #434B5C;\n",
              "      box-shadow: 0px 1px 3px 1px rgba(0, 0, 0, 0.15);\n",
              "      filter: drop-shadow(0px 1px 2px rgba(0, 0, 0, 0.3));\n",
              "      fill: #FFFFFF;\n",
              "    }\n",
              "  </style>\n",
              "\n",
              "      <script>\n",
              "        const buttonEl =\n",
              "          document.querySelector('#df-d04d7997-760c-4ea7-a957-c5ae6dd9f620 button.colab-df-convert');\n",
              "        buttonEl.style.display =\n",
              "          google.colab.kernel.accessAllowed ? 'block' : 'none';\n",
              "\n",
              "        async function convertToInteractive(key) {\n",
              "          const element = document.querySelector('#df-d04d7997-760c-4ea7-a957-c5ae6dd9f620');\n",
              "          const dataTable =\n",
              "            await google.colab.kernel.invokeFunction('convertToInteractive',\n",
              "                                                     [key], {});\n",
              "          if (!dataTable) return;\n",
              "\n",
              "          const docLinkHtml = 'Like what you see? Visit the ' +\n",
              "            '<a target=\"_blank\" href=https://colab.research.google.com/notebooks/data_table.ipynb>data table notebook</a>'\n",
              "            + ' to learn more about interactive tables.';\n",
              "          element.innerHTML = '';\n",
              "          dataTable['output_type'] = 'display_data';\n",
              "          await google.colab.output.renderOutput(dataTable, element);\n",
              "          const docLink = document.createElement('div');\n",
              "          docLink.innerHTML = docLinkHtml;\n",
              "          element.appendChild(docLink);\n",
              "        }\n",
              "      </script>\n",
              "    </div>\n",
              "  </div>\n",
              "  "
            ]
          },
          "metadata": {},
          "execution_count": 7
        }
      ]
    },
    {
      "cell_type": "markdown",
      "source": [
        "Modificamos el dataframe diccionario para tener sólo columnas de importancia."
      ],
      "metadata": {
        "id": "csA9Lu6LDrcZ"
      }
    },
    {
      "cell_type": "code",
      "source": [
        "processed_diccionario = pd.concat([diccionario['Unnamed: 1'], diccionario['Unnamed: 2'], diccionario['Unnamed: 3']], axis = 1)\n",
        "processed_diccionario = processed_diccionario.dropna(axis = 0)\n",
        "processed_diccionario = processed_diccionario.rename(columns = {'Unnamed: 1' : 'Indicador', 'Unnamed: 2': 'Descripción', 'Unnamed: 3': 'Mnemónico'})\n",
        "processed_diccionario = processed_diccionario.drop(index = 3)\n",
        "processed_diccionario"
      ],
      "metadata": {
        "colab": {
          "base_uri": "https://localhost:8080/",
          "height": 419
        },
        "id": "jhJlvoNv7Y_B",
        "outputId": "8d14f8f0-a092-46e7-c29c-581fabba1f5a"
      },
      "execution_count": 21,
      "outputs": [
        {
          "output_type": "execute_result",
          "data": {
            "text/plain": [
              "                                             Indicador  \\\n",
              "4                          Clave de entidad federativa   \n",
              "5                                   Entidad federativa   \n",
              "6         Clave de municipio o demarcación territorial   \n",
              "7                  Municipio o demarcación territorial   \n",
              "8                                   Clave de localidad   \n",
              "..                                                 ...   \n",
              "285  Viviendas particulares habitadas sin radio ni ...   \n",
              "286  Viviendas particulares habitadas sin línea tel...   \n",
              "287  Viviendas particulares habitadas sin computado...   \n",
              "288  Viviendas particulares habitadas sin tecnologí...   \n",
              "289                                Tamaño de localidad   \n",
              "\n",
              "                                           Descripción    Mnemónico  \n",
              "4    Código que identifica a la entidad federativa....      ENTIDAD  \n",
              "5             Nombre oficial de la entidad federativa.     NOM_ENT   \n",
              "6    Código que identifica al municipio o demarcaci...          MUN  \n",
              "7    Nombre oficial del municipio o demarcación ter...   NOM_MUN     \n",
              "8    Código que identifica a la localidad al interi...          LOC  \n",
              "..                                                 ...          ...  \n",
              "285  Viviendas particulares habitadas que no cuenta...   VPH_SINRTV  \n",
              "286  Viviendas particulares habitadas que no cuenta...   VPH_SINLTC  \n",
              "287  Viviendas particulares habitadas que no cuenta...  VPH_SINCINT  \n",
              "288  Viviendas particulares habitadas que no cuenta...   VPH_SINTIC  \n",
              "289  Total de personas que residen habitualmente en...       TAMLOC  \n",
              "\n",
              "[286 rows x 3 columns]"
            ],
            "text/html": [
              "\n",
              "  <div id=\"df-be354149-a394-4b78-a9bf-942d5946568f\">\n",
              "    <div class=\"colab-df-container\">\n",
              "      <div>\n",
              "<style scoped>\n",
              "    .dataframe tbody tr th:only-of-type {\n",
              "        vertical-align: middle;\n",
              "    }\n",
              "\n",
              "    .dataframe tbody tr th {\n",
              "        vertical-align: top;\n",
              "    }\n",
              "\n",
              "    .dataframe thead th {\n",
              "        text-align: right;\n",
              "    }\n",
              "</style>\n",
              "<table border=\"1\" class=\"dataframe\">\n",
              "  <thead>\n",
              "    <tr style=\"text-align: right;\">\n",
              "      <th></th>\n",
              "      <th>Indicador</th>\n",
              "      <th>Descripción</th>\n",
              "      <th>Mnemónico</th>\n",
              "    </tr>\n",
              "  </thead>\n",
              "  <tbody>\n",
              "    <tr>\n",
              "      <th>4</th>\n",
              "      <td>Clave de entidad federativa</td>\n",
              "      <td>Código que identifica a la entidad federativa....</td>\n",
              "      <td>ENTIDAD</td>\n",
              "    </tr>\n",
              "    <tr>\n",
              "      <th>5</th>\n",
              "      <td>Entidad federativa</td>\n",
              "      <td>Nombre oficial de la entidad federativa.</td>\n",
              "      <td>NOM_ENT</td>\n",
              "    </tr>\n",
              "    <tr>\n",
              "      <th>6</th>\n",
              "      <td>Clave de municipio o demarcación territorial</td>\n",
              "      <td>Código que identifica al municipio o demarcaci...</td>\n",
              "      <td>MUN</td>\n",
              "    </tr>\n",
              "    <tr>\n",
              "      <th>7</th>\n",
              "      <td>Municipio o demarcación territorial</td>\n",
              "      <td>Nombre oficial del municipio o demarcación ter...</td>\n",
              "      <td>NOM_MUN</td>\n",
              "    </tr>\n",
              "    <tr>\n",
              "      <th>8</th>\n",
              "      <td>Clave de localidad</td>\n",
              "      <td>Código que identifica a la localidad al interi...</td>\n",
              "      <td>LOC</td>\n",
              "    </tr>\n",
              "    <tr>\n",
              "      <th>...</th>\n",
              "      <td>...</td>\n",
              "      <td>...</td>\n",
              "      <td>...</td>\n",
              "    </tr>\n",
              "    <tr>\n",
              "      <th>285</th>\n",
              "      <td>Viviendas particulares habitadas sin radio ni ...</td>\n",
              "      <td>Viviendas particulares habitadas que no cuenta...</td>\n",
              "      <td>VPH_SINRTV</td>\n",
              "    </tr>\n",
              "    <tr>\n",
              "      <th>286</th>\n",
              "      <td>Viviendas particulares habitadas sin línea tel...</td>\n",
              "      <td>Viviendas particulares habitadas que no cuenta...</td>\n",
              "      <td>VPH_SINLTC</td>\n",
              "    </tr>\n",
              "    <tr>\n",
              "      <th>287</th>\n",
              "      <td>Viviendas particulares habitadas sin computado...</td>\n",
              "      <td>Viviendas particulares habitadas que no cuenta...</td>\n",
              "      <td>VPH_SINCINT</td>\n",
              "    </tr>\n",
              "    <tr>\n",
              "      <th>288</th>\n",
              "      <td>Viviendas particulares habitadas sin tecnologí...</td>\n",
              "      <td>Viviendas particulares habitadas que no cuenta...</td>\n",
              "      <td>VPH_SINTIC</td>\n",
              "    </tr>\n",
              "    <tr>\n",
              "      <th>289</th>\n",
              "      <td>Tamaño de localidad</td>\n",
              "      <td>Total de personas que residen habitualmente en...</td>\n",
              "      <td>TAMLOC</td>\n",
              "    </tr>\n",
              "  </tbody>\n",
              "</table>\n",
              "<p>286 rows × 3 columns</p>\n",
              "</div>\n",
              "      <button class=\"colab-df-convert\" onclick=\"convertToInteractive('df-be354149-a394-4b78-a9bf-942d5946568f')\"\n",
              "              title=\"Convert this dataframe to an interactive table.\"\n",
              "              style=\"display:none;\">\n",
              "        \n",
              "  <svg xmlns=\"http://www.w3.org/2000/svg\" height=\"24px\"viewBox=\"0 0 24 24\"\n",
              "       width=\"24px\">\n",
              "    <path d=\"M0 0h24v24H0V0z\" fill=\"none\"/>\n",
              "    <path d=\"M18.56 5.44l.94 2.06.94-2.06 2.06-.94-2.06-.94-.94-2.06-.94 2.06-2.06.94zm-11 1L8.5 8.5l.94-2.06 2.06-.94-2.06-.94L8.5 2.5l-.94 2.06-2.06.94zm10 10l.94 2.06.94-2.06 2.06-.94-2.06-.94-.94-2.06-.94 2.06-2.06.94z\"/><path d=\"M17.41 7.96l-1.37-1.37c-.4-.4-.92-.59-1.43-.59-.52 0-1.04.2-1.43.59L10.3 9.45l-7.72 7.72c-.78.78-.78 2.05 0 2.83L4 21.41c.39.39.9.59 1.41.59.51 0 1.02-.2 1.41-.59l7.78-7.78 2.81-2.81c.8-.78.8-2.07 0-2.86zM5.41 20L4 18.59l7.72-7.72 1.47 1.35L5.41 20z\"/>\n",
              "  </svg>\n",
              "      </button>\n",
              "      \n",
              "  <style>\n",
              "    .colab-df-container {\n",
              "      display:flex;\n",
              "      flex-wrap:wrap;\n",
              "      gap: 12px;\n",
              "    }\n",
              "\n",
              "    .colab-df-convert {\n",
              "      background-color: #E8F0FE;\n",
              "      border: none;\n",
              "      border-radius: 50%;\n",
              "      cursor: pointer;\n",
              "      display: none;\n",
              "      fill: #1967D2;\n",
              "      height: 32px;\n",
              "      padding: 0 0 0 0;\n",
              "      width: 32px;\n",
              "    }\n",
              "\n",
              "    .colab-df-convert:hover {\n",
              "      background-color: #E2EBFA;\n",
              "      box-shadow: 0px 1px 2px rgba(60, 64, 67, 0.3), 0px 1px 3px 1px rgba(60, 64, 67, 0.15);\n",
              "      fill: #174EA6;\n",
              "    }\n",
              "\n",
              "    [theme=dark] .colab-df-convert {\n",
              "      background-color: #3B4455;\n",
              "      fill: #D2E3FC;\n",
              "    }\n",
              "\n",
              "    [theme=dark] .colab-df-convert:hover {\n",
              "      background-color: #434B5C;\n",
              "      box-shadow: 0px 1px 3px 1px rgba(0, 0, 0, 0.15);\n",
              "      filter: drop-shadow(0px 1px 2px rgba(0, 0, 0, 0.3));\n",
              "      fill: #FFFFFF;\n",
              "    }\n",
              "  </style>\n",
              "\n",
              "      <script>\n",
              "        const buttonEl =\n",
              "          document.querySelector('#df-be354149-a394-4b78-a9bf-942d5946568f button.colab-df-convert');\n",
              "        buttonEl.style.display =\n",
              "          google.colab.kernel.accessAllowed ? 'block' : 'none';\n",
              "\n",
              "        async function convertToInteractive(key) {\n",
              "          const element = document.querySelector('#df-be354149-a394-4b78-a9bf-942d5946568f');\n",
              "          const dataTable =\n",
              "            await google.colab.kernel.invokeFunction('convertToInteractive',\n",
              "                                                     [key], {});\n",
              "          if (!dataTable) return;\n",
              "\n",
              "          const docLinkHtml = 'Like what you see? Visit the ' +\n",
              "            '<a target=\"_blank\" href=https://colab.research.google.com/notebooks/data_table.ipynb>data table notebook</a>'\n",
              "            + ' to learn more about interactive tables.';\n",
              "          element.innerHTML = '';\n",
              "          dataTable['output_type'] = 'display_data';\n",
              "          await google.colab.output.renderOutput(dataTable, element);\n",
              "          const docLink = document.createElement('div');\n",
              "          docLink.innerHTML = docLinkHtml;\n",
              "          element.appendChild(docLink);\n",
              "        }\n",
              "      </script>\n",
              "    </div>\n",
              "  </div>\n",
              "  "
            ]
          },
          "metadata": {},
          "execution_count": 21
        }
      ]
    },
    {
      "cell_type": "code",
      "source": [
        "tam_loc.head()"
      ],
      "metadata": {
        "colab": {
          "base_uri": "https://localhost:8080/",
          "height": 204
        },
        "id": "gcr564b9CWpq",
        "outputId": "ad7cd646-b604-4d7e-f6e5-679053d59d54"
      },
      "execution_count": 9,
      "outputs": [
        {
          "output_type": "execute_result",
          "data": {
            "text/plain": [
              "   tam_loc               descripcion\n",
              "0        1        1 a 249 habitantes\n",
              "1        2     250 a 499 habitantes \n",
              "2        3      500 a 999 habitantes\n",
              "3        4  1 000 a 2 499 habitantes\n",
              "4        5  2 500 a 4 999 habitantes"
            ],
            "text/html": [
              "\n",
              "  <div id=\"df-1bd6d10e-3bfd-4210-8565-0d95810dc5fd\">\n",
              "    <div class=\"colab-df-container\">\n",
              "      <div>\n",
              "<style scoped>\n",
              "    .dataframe tbody tr th:only-of-type {\n",
              "        vertical-align: middle;\n",
              "    }\n",
              "\n",
              "    .dataframe tbody tr th {\n",
              "        vertical-align: top;\n",
              "    }\n",
              "\n",
              "    .dataframe thead th {\n",
              "        text-align: right;\n",
              "    }\n",
              "</style>\n",
              "<table border=\"1\" class=\"dataframe\">\n",
              "  <thead>\n",
              "    <tr style=\"text-align: right;\">\n",
              "      <th></th>\n",
              "      <th>tam_loc</th>\n",
              "      <th>descripcion</th>\n",
              "    </tr>\n",
              "  </thead>\n",
              "  <tbody>\n",
              "    <tr>\n",
              "      <th>0</th>\n",
              "      <td>1</td>\n",
              "      <td>1 a 249 habitantes</td>\n",
              "    </tr>\n",
              "    <tr>\n",
              "      <th>1</th>\n",
              "      <td>2</td>\n",
              "      <td>250 a 499 habitantes</td>\n",
              "    </tr>\n",
              "    <tr>\n",
              "      <th>2</th>\n",
              "      <td>3</td>\n",
              "      <td>500 a 999 habitantes</td>\n",
              "    </tr>\n",
              "    <tr>\n",
              "      <th>3</th>\n",
              "      <td>4</td>\n",
              "      <td>1 000 a 2 499 habitantes</td>\n",
              "    </tr>\n",
              "    <tr>\n",
              "      <th>4</th>\n",
              "      <td>5</td>\n",
              "      <td>2 500 a 4 999 habitantes</td>\n",
              "    </tr>\n",
              "  </tbody>\n",
              "</table>\n",
              "</div>\n",
              "      <button class=\"colab-df-convert\" onclick=\"convertToInteractive('df-1bd6d10e-3bfd-4210-8565-0d95810dc5fd')\"\n",
              "              title=\"Convert this dataframe to an interactive table.\"\n",
              "              style=\"display:none;\">\n",
              "        \n",
              "  <svg xmlns=\"http://www.w3.org/2000/svg\" height=\"24px\"viewBox=\"0 0 24 24\"\n",
              "       width=\"24px\">\n",
              "    <path d=\"M0 0h24v24H0V0z\" fill=\"none\"/>\n",
              "    <path d=\"M18.56 5.44l.94 2.06.94-2.06 2.06-.94-2.06-.94-.94-2.06-.94 2.06-2.06.94zm-11 1L8.5 8.5l.94-2.06 2.06-.94-2.06-.94L8.5 2.5l-.94 2.06-2.06.94zm10 10l.94 2.06.94-2.06 2.06-.94-2.06-.94-.94-2.06-.94 2.06-2.06.94z\"/><path d=\"M17.41 7.96l-1.37-1.37c-.4-.4-.92-.59-1.43-.59-.52 0-1.04.2-1.43.59L10.3 9.45l-7.72 7.72c-.78.78-.78 2.05 0 2.83L4 21.41c.39.39.9.59 1.41.59.51 0 1.02-.2 1.41-.59l7.78-7.78 2.81-2.81c.8-.78.8-2.07 0-2.86zM5.41 20L4 18.59l7.72-7.72 1.47 1.35L5.41 20z\"/>\n",
              "  </svg>\n",
              "      </button>\n",
              "      \n",
              "  <style>\n",
              "    .colab-df-container {\n",
              "      display:flex;\n",
              "      flex-wrap:wrap;\n",
              "      gap: 12px;\n",
              "    }\n",
              "\n",
              "    .colab-df-convert {\n",
              "      background-color: #E8F0FE;\n",
              "      border: none;\n",
              "      border-radius: 50%;\n",
              "      cursor: pointer;\n",
              "      display: none;\n",
              "      fill: #1967D2;\n",
              "      height: 32px;\n",
              "      padding: 0 0 0 0;\n",
              "      width: 32px;\n",
              "    }\n",
              "\n",
              "    .colab-df-convert:hover {\n",
              "      background-color: #E2EBFA;\n",
              "      box-shadow: 0px 1px 2px rgba(60, 64, 67, 0.3), 0px 1px 3px 1px rgba(60, 64, 67, 0.15);\n",
              "      fill: #174EA6;\n",
              "    }\n",
              "\n",
              "    [theme=dark] .colab-df-convert {\n",
              "      background-color: #3B4455;\n",
              "      fill: #D2E3FC;\n",
              "    }\n",
              "\n",
              "    [theme=dark] .colab-df-convert:hover {\n",
              "      background-color: #434B5C;\n",
              "      box-shadow: 0px 1px 3px 1px rgba(0, 0, 0, 0.15);\n",
              "      filter: drop-shadow(0px 1px 2px rgba(0, 0, 0, 0.3));\n",
              "      fill: #FFFFFF;\n",
              "    }\n",
              "  </style>\n",
              "\n",
              "      <script>\n",
              "        const buttonEl =\n",
              "          document.querySelector('#df-1bd6d10e-3bfd-4210-8565-0d95810dc5fd button.colab-df-convert');\n",
              "        buttonEl.style.display =\n",
              "          google.colab.kernel.accessAllowed ? 'block' : 'none';\n",
              "\n",
              "        async function convertToInteractive(key) {\n",
              "          const element = document.querySelector('#df-1bd6d10e-3bfd-4210-8565-0d95810dc5fd');\n",
              "          const dataTable =\n",
              "            await google.colab.kernel.invokeFunction('convertToInteractive',\n",
              "                                                     [key], {});\n",
              "          if (!dataTable) return;\n",
              "\n",
              "          const docLinkHtml = 'Like what you see? Visit the ' +\n",
              "            '<a target=\"_blank\" href=https://colab.research.google.com/notebooks/data_table.ipynb>data table notebook</a>'\n",
              "            + ' to learn more about interactive tables.';\n",
              "          element.innerHTML = '';\n",
              "          dataTable['output_type'] = 'display_data';\n",
              "          await google.colab.output.renderOutput(dataTable, element);\n",
              "          const docLink = document.createElement('div');\n",
              "          docLink.innerHTML = docLinkHtml;\n",
              "          element.appendChild(docLink);\n",
              "        }\n",
              "      </script>\n",
              "    </div>\n",
              "  </div>\n",
              "  "
            ]
          },
          "metadata": {},
          "execution_count": 9
        }
      ]
    },
    {
      "cell_type": "code",
      "source": [
        "censo.info()"
      ],
      "metadata": {
        "colab": {
          "base_uri": "https://localhost:8080/"
        },
        "id": "SavtMgugDFCH",
        "outputId": "fea97a13-bceb-49ff-aca3-71c7c575ef17"
      },
      "execution_count": 10,
      "outputs": [
        {
          "output_type": "stream",
          "name": "stdout",
          "text": [
            "<class 'pandas.core.frame.DataFrame'>\n",
            "RangeIndex: 7059 entries, 0 to 7058\n",
            "Columns: 286 entries, ENTIDAD to TAMLOC\n",
            "dtypes: float64(1), int64(6), object(279)\n",
            "memory usage: 15.4+ MB\n"
          ]
        }
      ]
    },
    {
      "cell_type": "code",
      "source": [
        "censo.shape"
      ],
      "metadata": {
        "colab": {
          "base_uri": "https://localhost:8080/"
        },
        "id": "Dkrdgxr2GcoJ",
        "outputId": "10b0c3c6-2905-43fb-c9e5-f0d347934d32"
      },
      "execution_count": 11,
      "outputs": [
        {
          "output_type": "execute_result",
          "data": {
            "text/plain": [
              "(7059, 286)"
            ]
          },
          "metadata": {},
          "execution_count": 11
        }
      ]
    },
    {
      "cell_type": "markdown",
      "source": [
        "### **Valores nulos**"
      ],
      "metadata": {
        "id": "7nuTlyPDHZD4"
      }
    },
    {
      "cell_type": "markdown",
      "source": [
        "Número de columnas"
      ],
      "metadata": {
        "id": "1UHcyghJ4Jas"
      }
    },
    {
      "cell_type": "code",
      "source": [
        "censo.isna().any().sum()"
      ],
      "metadata": {
        "colab": {
          "base_uri": "https://localhost:8080/"
        },
        "id": "CWk1xtY1GiWv",
        "outputId": "d965981c-2510-4593-8e75-1e9d97a7038c"
      },
      "execution_count": 25,
      "outputs": [
        {
          "output_type": "execute_result",
          "data": {
            "text/plain": [
              "5"
            ]
          },
          "metadata": {},
          "execution_count": 25
        }
      ]
    },
    {
      "cell_type": "markdown",
      "source": [
        "Total de valores nulos"
      ],
      "metadata": {
        "id": "ljOBkufo4OkT"
      }
    },
    {
      "cell_type": "code",
      "source": [
        "censo.isnull().sum().sum()"
      ],
      "metadata": {
        "colab": {
          "base_uri": "https://localhost:8080/"
        },
        "id": "XgGqT7HN4NPN",
        "outputId": "83dccbc8-50fc-45e3-9830-06a9aecea1a7"
      },
      "execution_count": 28,
      "outputs": [
        {
          "output_type": "execute_result",
          "data": {
            "text/plain": [
              "1481"
            ]
          },
          "metadata": {},
          "execution_count": 28
        }
      ]
    },
    {
      "cell_type": "markdown",
      "source": [
        "Relación de columnas y valores nulos"
      ],
      "metadata": {
        "id": "YdGDHzwn4cKm"
      }
    },
    {
      "cell_type": "code",
      "source": [
        "censo.isnull().sum()[censo.isnull().sum()>0]"
      ],
      "metadata": {
        "colab": {
          "base_uri": "https://localhost:8080/"
        },
        "id": "LYERjOhP4Xfs",
        "outputId": "7955e7e1-f755-40f3-9681-3afd40bc9192"
      },
      "execution_count": 30,
      "outputs": [
        {
          "output_type": "execute_result",
          "data": {
            "text/plain": [
              "LONGITUD    491\n",
              "LATITUD     491\n",
              "ALTITUD     491\n",
              "REL_H_M       4\n",
              "PROM_HNV      4\n",
              "dtype: int64"
            ]
          },
          "metadata": {},
          "execution_count": 30
        }
      ]
    },
    {
      "cell_type": "markdown",
      "source": [
        "Búsqueda de significado de los mnemónicos"
      ],
      "metadata": {
        "id": "17jFnuAtMEw6"
      }
    },
    {
      "cell_type": "code",
      "source": [
        "relStr = processed_diccionario.loc[processed_diccionario['Mnemónico'] == 'REL_H_M']['Indicador'].values[0]\n",
        "promStr = processed_diccionario.loc[processed_diccionario['Mnemónico'] == 'PROM_HNV']['Indicador'].values[0]\n",
        "relStr, promStr"
      ],
      "metadata": {
        "colab": {
          "base_uri": "https://localhost:8080/"
        },
        "id": "njur-gLgIDcX",
        "outputId": "c751d55c-4020-42d3-f212-0e469e9bd431"
      },
      "execution_count": 15,
      "outputs": [
        {
          "output_type": "execute_result",
          "data": {
            "text/plain": [
              "('Relación hombres-mujeres', 'Promedio de hijas e hijos nacidos vivos')"
            ]
          },
          "metadata": {},
          "execution_count": 15
        }
      ]
    },
    {
      "cell_type": "markdown",
      "source": [
        "Renombrar nombres de filas y cambiar sus nombres "
      ],
      "metadata": {
        "id": "ysHgxZvGMKCF"
      }
    },
    {
      "cell_type": "code",
      "source": [
        "censo.isnull().sum()[censo.isnull().sum()>0].rename({'REL_H_M': relStr.upper(), 'PROM_HNV': promStr.upper()}, axis = 'index')"
      ],
      "metadata": {
        "colab": {
          "base_uri": "https://localhost:8080/"
        },
        "id": "2sRCgaicHkXg",
        "outputId": "9e710a24-d819-4bab-deb1-192aa71b65a0"
      },
      "execution_count": 16,
      "outputs": [
        {
          "output_type": "execute_result",
          "data": {
            "text/plain": [
              "LONGITUD                                   491\n",
              "LATITUD                                    491\n",
              "ALTITUD                                    491\n",
              "RELACIÓN HOMBRES-MUJERES                     4\n",
              "PROMEDIO DE HIJAS E HIJOS NACIDOS VIVOS      4\n",
              "dtype: int64"
            ]
          },
          "metadata": {},
          "execution_count": 16
        }
      ]
    },
    {
      "cell_type": "markdown",
      "source": [
        "Mapa de calor de la distribución de valores nulos."
      ],
      "metadata": {
        "id": "KbzbeRBO6R5k"
      }
    },
    {
      "cell_type": "code",
      "source": [
        "censo.isnull().transpose().pipe(\n",
        "    lambda df : sns.heatmap(data = df)\n",
        ")"
      ],
      "metadata": {
        "colab": {
          "base_uri": "https://localhost:8080/",
          "height": 302
        },
        "id": "CmpF-VPK4ksE",
        "outputId": "cb7a2494-df3d-4d5f-d71f-e37655ba4d32"
      },
      "execution_count": 17,
      "outputs": [
        {
          "output_type": "execute_result",
          "data": {
            "text/plain": [
              "<matplotlib.axes._subplots.AxesSubplot at 0x7f2d8c63ead0>"
            ]
          },
          "metadata": {},
          "execution_count": 17
        },
        {
          "output_type": "display_data",
          "data": {
            "text/plain": [
              "<Figure size 432x288 with 2 Axes>"
            ],
            "image/png": "[encoded data removed]"
          },
          "metadata": {
            "needs_background": "light"
          }
        }
      ]
    }
  ]
}